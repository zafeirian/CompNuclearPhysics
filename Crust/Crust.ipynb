{
 "cells": [
  {
   "cell_type": "code",
   "execution_count": 2,
   "id": "f61fb68f",
   "metadata": {},
   "outputs": [],
   "source": [
    "import numpy as np\n",
    "import matplotlib.pyplot as plt\n",
    "from scipy.optimize import root\n",
    "import scienceplots\n",
    "plt.style.use(['science','notebook','grid'])"
   ]
  },
  {
   "cell_type": "code",
   "execution_count": 3,
   "id": "efc0492d",
   "metadata": {},
   "outputs": [],
   "source": [
    "Av = 15.71511 #MeV\n",
    "As = 17.53638 #MeV\n",
    "Ac = 0.71363 #MeV\n",
    "Aa = 23.37837 #MeV"
   ]
  },
  {
   "cell_type": "code",
   "execution_count": 18,
   "id": "247e31ac",
   "metadata": {},
   "outputs": [],
   "source": [
    "def y(x):\n",
    "    return np.sqrt(As/(2*Ac*x*x*x))"
   ]
  },
  {
   "cell_type": "code",
   "execution_count": 4,
   "id": "b5f6d598",
   "metadata": {},
   "outputs": [],
   "source": [
    "def f(x):\n",
    "    return 0.5/(1 + Ac*x*x/(4*Aa)) - np.sqrt(As/(2*Ac*x*x*x))"
   ]
  },
  {
   "cell_type": "code",
   "execution_count": 17,
   "id": "b2301796",
   "metadata": {},
   "outputs": [],
   "source": [
    "sol = root(f,3)\n",
    "xstable = sol['x'][0]\n",
    "ystable = y(xstable)"
   ]
  },
  {
   "cell_type": "code",
   "execution_count": 34,
   "id": "41d8f4ab",
   "metadata": {},
   "outputs": [
    {
     "data": {
      "text/plain": [
       "(27.496349566027305, 61.53372802754275)"
      ]
     },
     "execution_count": 34,
     "metadata": {},
     "output_type": "execute_result"
    }
   ],
   "source": [
    "Astable = xstable**3\n",
    "Zstable = ystable*Astable\n",
    "(Zstable,Astable)"
   ]
  },
  {
   "cell_type": "code",
   "execution_count": 36,
   "id": "a3cb5c05",
   "metadata": {},
   "outputs": [
    {
     "name": "stdout",
     "output_type": "stream",
     "text": [
      "The most stable element is the one with Z = 27 and A = 61.\n"
     ]
    }
   ],
   "source": [
    "print(f'The most stable element is the one with Z = {int(Zstable)} and A = {int(Astable)}.')"
   ]
  },
  {
   "cell_type": "code",
   "execution_count": null,
   "id": "99238a81",
   "metadata": {},
   "outputs": [],
   "source": []
  }
 ],
 "metadata": {
  "kernelspec": {
   "display_name": "Python 3 (ipykernel)",
   "language": "python",
   "name": "python3"
  },
  "language_info": {
   "codemirror_mode": {
    "name": "ipython",
    "version": 3
   },
   "file_extension": ".py",
   "mimetype": "text/x-python",
   "name": "python",
   "nbconvert_exporter": "python",
   "pygments_lexer": "ipython3",
   "version": "3.11.4"
  }
 },
 "nbformat": 4,
 "nbformat_minor": 5
}
