{
 "cells": [
  {
   "cell_type": "code",
   "execution_count": 327,
   "id": "f980c891",
   "metadata": {},
   "outputs": [],
   "source": [
    "import numpy as np\n",
    "import matplotlib.pyplot as plt\n",
    "import scienceplots\n",
    "from scipy.interpolate import interp1d\n",
    "from scipy.optimize import root\n",
    "import pandas as pd\n",
    "plt.style.use(['science', 'notebook', 'grid'])"
   ]
  },
  {
   "cell_type": "code",
   "execution_count": 475,
   "id": "8b039f3b",
   "metadata": {},
   "outputs": [],
   "source": [
    "def FalsePosition(f,xl,xu,n, imax=200):\n",
    "    # Setting the first value of xr_old in order to\n",
    "    # calculate the first approximate error.\n",
    "    xr_old = xl\n",
    "\n",
    "    # Setting an iteration counter.\n",
    "    iterations_fp = 0\n",
    "\n",
    "    # Creating a list for storing all the xr values\n",
    "    # and a list for storing all the approximate errors\n",
    "    # in order to present the convergence of the method.\n",
    "    xr_list = []\n",
    "    err_a_list = []\n",
    "    err_a = 100\n",
    "    #Scarborough\n",
    "    err_s = (0.5*10**(2-n))/100 #Calculating the Scarborough Error\n",
    "\n",
    "    fl = f(xl)\n",
    "    fu = f(xu)\n",
    "    \n",
    "#    lower_counter = 0  # MV: Counter for checking how many times did the lower boundary stayed the same.\n",
    "#    upper_counter = 0  # MV: Counter for checking how many times did the upper boundary stayed the same.\n",
    "\n",
    "    # Creating the loop of False Position Method.\n",
    "\n",
    "    for i in range(imax):  #Maximum Iterations are set to 200.\n",
    "        xr = xu - fu*(xl-xu)/(fl-fu)  # Calculating the xr.\n",
    "\n",
    "\n",
    "        # Calculating the approximate error.\n",
    "        if xr!=0 and iterations_fp>0:\n",
    "            err_a = abs((xr - xr_old)/xr)    \n",
    "            \n",
    "        iterations_fp += 1   # Iteration counter. \n",
    "        # Storing xr and the approximate error on their corresponding lists.\n",
    "        xr_list.append(xr) \n",
    "        err_a_list.append(err_a)\n",
    "\n",
    "        # Checking if the approximate error is less than the Scarborough Error\n",
    "        # in order to stop the iterations.\n",
    "        if (err_a <= err_s):\n",
    "            break\n",
    "\n",
    "        fr=f(xr)\n",
    "        if fl*fr<0: # Checking if the root is on the interval [xl,xr].\n",
    "            xu = xr # Setting the upper boundary equal to xr for the next iteration.\n",
    "            fu=f(xu)\n",
    "#            lower_counter += 1  # MV: Lower boundary stayed the same one more time.\n",
    "#            upper_counter = 0   # MV: Counter reset since the upper boundary changed.\n",
    "#            if lower_counter>2: # MV: Checking if the lower boundary stayed the same for 3 iterations.\n",
    "#                fl=fl/2       # MV: Halving the lower boundary.\n",
    "        elif fl*fr>0:  # Checking if the root is on the interval [xr,xu].\n",
    "            xl = xr # Setting the lower boundary equal to xr for the next iteration.\n",
    "            fl=f(xl)\n",
    "#           lower_counter = 0   # MV: Counter reset since the lower boundary changed.\n",
    "#            upper_counter += 1  # MV: Upper boundary stayed the same one more time.\n",
    "#            if upper_counter>2: # MV: Checking if the upper boundary stayed the same for 3 iterations.\n",
    "#                fu=fu/2         # MV: Halving the upper boundary.\n",
    "        else: # The scenario where xr is the root of the function.\n",
    "            break # Stopping the iterations, since the root is found.\n",
    "\n",
    "        # Storing the last value of xr to calculate the approximate error\n",
    "        # in the next iteration. The algorithm works even if we don't use\n",
    "        # the storing lists xr_list and err_a_list.\n",
    "        xr_old = xr \n",
    "\n",
    "#    print(f'With a certainty of {n} significant figures, the root is found to be x = {xr}, after {iterations_fp} iterations.')\n",
    "    return xr, iterations_fp"
   ]
  },
  {
   "cell_type": "code",
   "execution_count": 2,
   "id": "81c8c46b",
   "metadata": {},
   "outputs": [],
   "source": [
    "HbarC = 197.327 # MeV fm\n",
    "mC2 = 939 # MeV"
   ]
  },
  {
   "cell_type": "code",
   "execution_count": 3,
   "id": "d13f04b3",
   "metadata": {},
   "outputs": [
    {
     "data": {
      "text/plain": [
       "51.158428200297315"
      ]
     },
     "execution_count": 3,
     "metadata": {},
     "output_type": "execute_result"
    }
   ],
   "source": [
    "np.pi**2 * HbarC**2/(8*mC2)"
   ]
  },
  {
   "cell_type": "code",
   "execution_count": 4,
   "id": "cc3abfed",
   "metadata": {},
   "outputs": [
    {
     "data": {
      "text/plain": [
       "460.4258538026759"
      ]
     },
     "execution_count": 4,
     "metadata": {},
     "output_type": "execute_result"
    }
   ],
   "source": [
    "9*np.pi**2 * HbarC**2/(8*mC2)"
   ]
  },
  {
   "cell_type": "markdown",
   "id": "e099e277",
   "metadata": {},
   "source": [
    "$$ 51.16  \\leq V_0 L^2 \\leq  460.42 $$ "
   ]
  },
  {
   "cell_type": "code",
   "execution_count": 15,
   "id": "dbc501ae",
   "metadata": {},
   "outputs": [],
   "source": [
    "def cot(x):\n",
    "    return np.tan(x)**(-1)"
   ]
  },
  {
   "cell_type": "code",
   "execution_count": 329,
   "id": "c326299c",
   "metadata": {},
   "outputs": [],
   "source": [
    "ksi = np.linspace(0.01, 6, 2000)\n",
    "xCOT1 = np.linspace(0.01,np.pi-1e-8,100)\n",
    "xCOT2 = np.linspace(3.2, 6,100)"
   ]
  },
  {
   "cell_type": "code",
   "execution_count": 330,
   "id": "52f9ae6e",
   "metadata": {},
   "outputs": [],
   "source": [
    "def n1(x):\n",
    "    return -x*cot(x)"
   ]
  },
  {
   "cell_type": "code",
   "execution_count": 331,
   "id": "6554db4f",
   "metadata": {},
   "outputs": [],
   "source": [
    "def n2(x, V0L2):\n",
    "    xmax = ((2*mC2*V0L2)/(HbarC**2))**(0.5)\n",
    "    epsilon = 1e-10\n",
    "    xcopy = x.copy()\n",
    "    xcopy[xmax<xcopy] = xmax - epsilon\n",
    "    return  ((2*mC2*V0L2)/(HbarC**2) - xcopy**2)**(0.5)"
   ]
  },
  {
   "cell_type": "code",
   "execution_count": 332,
   "id": "abe0811c",
   "metadata": {},
   "outputs": [
    {
     "data": {
      "image/png": "[encoded data removed]",
      "text/plain": [
       "<Figure size 800x600 with 1 Axes>"
      ]
     },
     "metadata": {},
     "output_type": "display_data"
    }
   ],
   "source": [
    "plt.plot(xCOT1,n1(xCOT1), color='k')\n",
    "plt.plot(xCOT2,n1(xCOT2), color='k')\n",
    "plt.plot(ksi,n2(ksi,52), color='tab:blue', linestyle='--')\n",
    "plt.plot(ksi,n2(ksi,150), color='tab:orange', linestyle='--')\n",
    "plt.plot(ksi,n2(ksi,300), color='tab:orange', linestyle='--')\n",
    "plt.plot(ksi,n2(ksi,460),color='tab:blue', linestyle='--')\n",
    "plt.ylim([0, 6])\n",
    "plt.xlim([0, 6])\n",
    "plt.xlabel('ksi')\n",
    "plt.ylabel('v')\n",
    "plt.show()"
   ]
  },
  {
   "cell_type": "code",
   "execution_count": 333,
   "id": "df0881d3",
   "metadata": {},
   "outputs": [],
   "source": [
    "# ksil = pi/2 | ksiu = pi "
   ]
  },
  {
   "cell_type": "markdown",
   "id": "2e5b6059",
   "metadata": {},
   "source": [
    "If $ L = 2.5 fm =>  L^2 = 6.25 fm^2$, then: \n",
    "$$ 8.20  \\leq V_0 \\leq  73.6 $$"
   ]
  },
  {
   "cell_type": "markdown",
   "id": "0125530a",
   "metadata": {},
   "source": [
    "We are going to start from a value of L=1.9 all the way up to L=3.2, with a step size of 0.1fm. For every L value, we are going to calculate the boundaries of $V_0$. Using a step of V0 = 1, we are going to get n number of pairs (L,V0) and calculate the binding energy for each one."
   ]
  },
  {
   "cell_type": "code",
   "execution_count": 334,
   "id": "1097ff43",
   "metadata": {},
   "outputs": [],
   "source": [
    "n1f = interp1d(xCOT1, n1(xCOT1), 'cubic') # n1: interpolated from 0 to pi"
   ]
  },
  {
   "cell_type": "code",
   "execution_count": 452,
   "id": "03a1d6c3",
   "metadata": {},
   "outputs": [],
   "source": [
    "\n",
    "x = np.linspace(np.pi/2 + 1e-8, np.pi - 1e-8, 200) # the Ksi points."
   ]
  },
  {
   "cell_type": "code",
   "execution_count": 288,
   "id": "a1490b97",
   "metadata": {},
   "outputs": [],
   "source": [
    "n2f = interp1d(x, n2(x,V0L2),'cubic')"
   ]
  },
  {
   "cell_type": "code",
   "execution_count": 298,
   "id": "09c60a81",
   "metadata": {},
   "outputs": [],
   "source": [
    "y = interp1d(x, n2f(x)-n1f(x),'cubic')"
   ]
  },
  {
   "cell_type": "code",
   "execution_count": 300,
   "id": "1f3c4f45",
   "metadata": {},
   "outputs": [],
   "source": [
    "sol = root(y, 2.3)"
   ]
  },
  {
   "cell_type": "code",
   "execution_count": 303,
   "id": "b651e80a",
   "metadata": {},
   "outputs": [],
   "source": [
    "ksi1 = sol['x'][0]"
   ]
  },
  {
   "cell_type": "code",
   "execution_count": 304,
   "id": "d9e08231",
   "metadata": {},
   "outputs": [
    {
     "data": {
      "text/plain": [
       "2.4438694010217685"
      ]
     },
     "execution_count": 304,
     "metadata": {},
     "output_type": "execute_result"
    }
   ],
   "source": [
    "ksi1"
   ]
  },
  {
   "cell_type": "code",
   "execution_count": 305,
   "id": "6b4b9d1d",
   "metadata": {},
   "outputs": [],
   "source": [
    "E = V0 - (HbarC)**2/(2* mC2*L2)*ksi1"
   ]
  },
  {
   "cell_type": "code",
   "execution_count": 555,
   "id": "62722943",
   "metadata": {},
   "outputs": [],
   "source": [
    "def Eb(x,V0,L2):\n",
    "    n2f = interp1d(x,n2(x,V0*L2),'cubic')\n",
    "    y = interp1d(x, n2f(x)-n1f(x), 'cubic')\n",
    "    sol = root(y,2.5)\n",
    "    ksi1 = sol['x']\n",
    "    E = V0 - (HbarC*HbarC)/(2* mC2*L2)*ksi1\n",
    "    return float(E)\n",
    "Ebinding = 2.224\n",
    "def f(V):\n",
    "    return Eb(x,V,L2) - Ebinding\n",
    "def f90(V):\n",
    "    return Eb(x,V,L2) - Ebinding*0.9\n",
    "def f110(V):\n",
    "    return Eb(x,V,L2) - Ebinding*1.1"
   ]
  },
  {
   "cell_type": "code",
   "execution_count": 556,
   "id": "91fd03da",
   "metadata": {},
   "outputs": [],
   "source": [
    "Ll = 1\n",
    "Lu = 6\n",
    "L_values = np.arange(Ll,Lu + 0.1, 0.1)\n",
    "x = np.linspace(0 + 1e-8, 4*np.pi, 200) # the Ksi points.\n",
    "n1f = interp1d(x, n1(x), 'cubic') # n1: interpolated from 0 to pi\n",
    "results = []\n",
    "results90 = []\n",
    "results110 = []"
   ]
  },
  {
   "cell_type": "code",
   "execution_count": 525,
   "id": "fd6cf35f",
   "metadata": {},
   "outputs": [],
   "source": []
  },
  {
   "cell_type": "code",
   "execution_count": 526,
   "id": "d4671491",
   "metadata": {},
   "outputs": [],
   "source": []
  },
  {
   "cell_type": "code",
   "execution_count": 557,
   "id": "c2bb50c6",
   "metadata": {},
   "outputs": [],
   "source": [
    "for L in L_values:\n",
    "    L2 = L*L\n",
    "    Vl = 52/L2\n",
    "    Vu = 460/L2\n",
    "    pot = float(FalsePosition(f, Vl,Vu,4)[0])\n",
    "    pot90 = float(FalsePosition(f90,Vl,Vu,4)[0])\n",
    "    pot110 = float(FalsePosition(f110,Vl,Vu,4)[0])\n",
    "    if (pot*L2 < 52 or pot*L2>460):\n",
    "        continue\n",
    "    en = float(Eb(x,pot,L2))\n",
    "    en90 = float(Eb(x,pot90,L2))\n",
    "    en110 = float(Eb(x,pot110,L2))\n",
    "    results.append({'V0': pot, 'L2': L2, '|E|': en})\n",
    "    results90.append({'V0': pot90, 'L2': L2, '|E|': en90})\n",
    "    results110.append({'V0': pot110, 'L2': L2, '|E|': en110})"
   ]
  },
  {
   "cell_type": "code",
   "execution_count": 559,
   "id": "56c6983f",
   "metadata": {},
   "outputs": [],
   "source": [
    "df = pd.DataFrame(results)\n",
    "df90 = pd.DataFrame(results90)\n",
    "df110 = pd.DataFrame(results110)"
   ]
  },
  {
   "cell_type": "code",
   "execution_count": 560,
   "id": "cbbe57eb",
   "metadata": {},
   "outputs": [
    {
     "data": {
      "text/html": [
       "<div>\n",
       "<style scoped>\n",
       "    .dataframe tbody tr th:only-of-type {\n",
       "        vertical-align: middle;\n",
       "    }\n",
       "\n",
       "    .dataframe tbody tr th {\n",
       "        vertical-align: top;\n",
       "    }\n",
       "\n",
       "    .dataframe thead th {\n",
       "        text-align: right;\n",
       "    }\n",
       "</style>\n",
       "<table border=\"1\" class=\"dataframe\">\n",
       "  <thead>\n",
       "    <tr style=\"text-align: right;\">\n",
       "      <th></th>\n",
       "      <th>V0</th>\n",
       "      <th>L2</th>\n",
       "      <th>|E|</th>\n",
       "    </tr>\n",
       "  </thead>\n",
       "  <tbody>\n",
       "    <tr>\n",
       "      <th>0</th>\n",
       "      <td>5.957304</td>\n",
       "      <td>9.00</td>\n",
       "      <td>2.223997</td>\n",
       "    </tr>\n",
       "    <tr>\n",
       "      <th>1</th>\n",
       "      <td>5.729046</td>\n",
       "      <td>9.61</td>\n",
       "      <td>2.223999</td>\n",
       "    </tr>\n",
       "    <tr>\n",
       "      <th>2</th>\n",
       "      <td>5.590958</td>\n",
       "      <td>10.24</td>\n",
       "      <td>2.223954</td>\n",
       "    </tr>\n",
       "    <tr>\n",
       "      <th>3</th>\n",
       "      <td>5.410271</td>\n",
       "      <td>10.89</td>\n",
       "      <td>2.224000</td>\n",
       "    </tr>\n",
       "    <tr>\n",
       "      <th>4</th>\n",
       "      <td>5.265607</td>\n",
       "      <td>11.56</td>\n",
       "      <td>2.223900</td>\n",
       "    </tr>\n",
       "    <tr>\n",
       "      <th>5</th>\n",
       "      <td>5.136917</td>\n",
       "      <td>12.25</td>\n",
       "      <td>2.223997</td>\n",
       "    </tr>\n",
       "    <tr>\n",
       "      <th>6</th>\n",
       "      <td>4.990426</td>\n",
       "      <td>12.96</td>\n",
       "      <td>2.224000</td>\n",
       "    </tr>\n",
       "    <tr>\n",
       "      <th>7</th>\n",
       "      <td>4.896231</td>\n",
       "      <td>13.69</td>\n",
       "      <td>2.223991</td>\n",
       "    </tr>\n",
       "    <tr>\n",
       "      <th>8</th>\n",
       "      <td>4.778046</td>\n",
       "      <td>14.44</td>\n",
       "      <td>2.223991</td>\n",
       "    </tr>\n",
       "    <tr>\n",
       "      <th>9</th>\n",
       "      <td>4.679975</td>\n",
       "      <td>15.21</td>\n",
       "      <td>2.223990</td>\n",
       "    </tr>\n",
       "    <tr>\n",
       "      <th>10</th>\n",
       "      <td>4.587856</td>\n",
       "      <td>16.00</td>\n",
       "      <td>2.223989</td>\n",
       "    </tr>\n",
       "    <tr>\n",
       "      <th>11</th>\n",
       "      <td>4.492170</td>\n",
       "      <td>16.81</td>\n",
       "      <td>2.223992</td>\n",
       "    </tr>\n",
       "    <tr>\n",
       "      <th>12</th>\n",
       "      <td>4.410386</td>\n",
       "      <td>17.64</td>\n",
       "      <td>2.223976</td>\n",
       "    </tr>\n",
       "    <tr>\n",
       "      <th>13</th>\n",
       "      <td>4.328359</td>\n",
       "      <td>18.49</td>\n",
       "      <td>2.223998</td>\n",
       "    </tr>\n",
       "    <tr>\n",
       "      <th>14</th>\n",
       "      <td>4.248759</td>\n",
       "      <td>19.36</td>\n",
       "      <td>2.223996</td>\n",
       "    </tr>\n",
       "    <tr>\n",
       "      <th>15</th>\n",
       "      <td>4.179581</td>\n",
       "      <td>20.25</td>\n",
       "      <td>2.223985</td>\n",
       "    </tr>\n",
       "    <tr>\n",
       "      <th>16</th>\n",
       "      <td>4.107626</td>\n",
       "      <td>21.16</td>\n",
       "      <td>2.223984</td>\n",
       "    </tr>\n",
       "    <tr>\n",
       "      <th>17</th>\n",
       "      <td>4.041058</td>\n",
       "      <td>22.09</td>\n",
       "      <td>2.223986</td>\n",
       "    </tr>\n",
       "    <tr>\n",
       "      <th>18</th>\n",
       "      <td>3.980623</td>\n",
       "      <td>23.04</td>\n",
       "      <td>2.223981</td>\n",
       "    </tr>\n",
       "    <tr>\n",
       "      <th>19</th>\n",
       "      <td>3.921890</td>\n",
       "      <td>24.01</td>\n",
       "      <td>2.223989</td>\n",
       "    </tr>\n",
       "    <tr>\n",
       "      <th>20</th>\n",
       "      <td>3.866237</td>\n",
       "      <td>25.00</td>\n",
       "      <td>2.223987</td>\n",
       "    </tr>\n",
       "    <tr>\n",
       "      <th>21</th>\n",
       "      <td>3.813796</td>\n",
       "      <td>26.01</td>\n",
       "      <td>2.223990</td>\n",
       "    </tr>\n",
       "    <tr>\n",
       "      <th>22</th>\n",
       "      <td>3.763440</td>\n",
       "      <td>27.04</td>\n",
       "      <td>2.223994</td>\n",
       "    </tr>\n",
       "    <tr>\n",
       "      <th>23</th>\n",
       "      <td>3.715359</td>\n",
       "      <td>28.09</td>\n",
       "      <td>2.223994</td>\n",
       "    </tr>\n",
       "    <tr>\n",
       "      <th>24</th>\n",
       "      <td>3.669813</td>\n",
       "      <td>29.16</td>\n",
       "      <td>2.223995</td>\n",
       "    </tr>\n",
       "    <tr>\n",
       "      <th>25</th>\n",
       "      <td>3.626100</td>\n",
       "      <td>30.25</td>\n",
       "      <td>2.223996</td>\n",
       "    </tr>\n",
       "    <tr>\n",
       "      <th>26</th>\n",
       "      <td>3.584418</td>\n",
       "      <td>31.36</td>\n",
       "      <td>2.223997</td>\n",
       "    </tr>\n",
       "    <tr>\n",
       "      <th>27</th>\n",
       "      <td>3.544740</td>\n",
       "      <td>32.49</td>\n",
       "      <td>2.223997</td>\n",
       "    </tr>\n",
       "    <tr>\n",
       "      <th>28</th>\n",
       "      <td>3.506755</td>\n",
       "      <td>33.64</td>\n",
       "      <td>2.223998</td>\n",
       "    </tr>\n",
       "    <tr>\n",
       "      <th>29</th>\n",
       "      <td>3.470396</td>\n",
       "      <td>34.81</td>\n",
       "      <td>2.223998</td>\n",
       "    </tr>\n",
       "    <tr>\n",
       "      <th>30</th>\n",
       "      <td>3.435608</td>\n",
       "      <td>36.00</td>\n",
       "      <td>2.223999</td>\n",
       "    </tr>\n",
       "  </tbody>\n",
       "</table>\n",
       "</div>"
      ],
      "text/plain": [
       "          V0     L2       |E|\n",
       "0   5.957304   9.00  2.223997\n",
       "1   5.729046   9.61  2.223999\n",
       "2   5.590958  10.24  2.223954\n",
       "3   5.410271  10.89  2.224000\n",
       "4   5.265607  11.56  2.223900\n",
       "5   5.136917  12.25  2.223997\n",
       "6   4.990426  12.96  2.224000\n",
       "7   4.896231  13.69  2.223991\n",
       "8   4.778046  14.44  2.223991\n",
       "9   4.679975  15.21  2.223990\n",
       "10  4.587856  16.00  2.223989\n",
       "11  4.492170  16.81  2.223992\n",
       "12  4.410386  17.64  2.223976\n",
       "13  4.328359  18.49  2.223998\n",
       "14  4.248759  19.36  2.223996\n",
       "15  4.179581  20.25  2.223985\n",
       "16  4.107626  21.16  2.223984\n",
       "17  4.041058  22.09  2.223986\n",
       "18  3.980623  23.04  2.223981\n",
       "19  3.921890  24.01  2.223989\n",
       "20  3.866237  25.00  2.223987\n",
       "21  3.813796  26.01  2.223990\n",
       "22  3.763440  27.04  2.223994\n",
       "23  3.715359  28.09  2.223994\n",
       "24  3.669813  29.16  2.223995\n",
       "25  3.626100  30.25  2.223996\n",
       "26  3.584418  31.36  2.223997\n",
       "27  3.544740  32.49  2.223997\n",
       "28  3.506755  33.64  2.223998\n",
       "29  3.470396  34.81  2.223998\n",
       "30  3.435608  36.00  2.223999"
      ]
     },
     "execution_count": 560,
     "metadata": {},
     "output_type": "execute_result"
    }
   ],
   "source": [
    "df"
   ]
  },
  {
   "cell_type": "code",
   "execution_count": 566,
   "id": "02ba6a3f",
   "metadata": {},
   "outputs": [
    {
     "data": {
      "image/png": "[encoded data removed]",
      "text/plain": [
       "<Figure size 800x600 with 1 Axes>"
      ]
     },
     "metadata": {},
     "output_type": "display_data"
    }
   ],
   "source": [
    "plt.scatter(df['L2'], df['V0'], color='tab:blue')\n",
    "plt.scatter(df90['L2'], df90['V0'], color='tab:blue')\n",
    "plt.scatter(df110['L2'], df110['V0'], color='tab:blue')\n",
    "plt.xlabel('L2')\n",
    "plt.ylabel('V0')\n",
    "plt.title('V0 - L2 Pairs with correct binding energy')\n",
    "plt.show()"
   ]
  },
  {
   "cell_type": "code",
   "execution_count": null,
   "id": "a828ea1a",
   "metadata": {},
   "outputs": [],
   "source": []
  },
  {
   "cell_type": "code",
   "execution_count": null,
   "id": "deda3fe5",
   "metadata": {},
   "outputs": [],
   "source": []
  }
 ],
 "metadata": {
  "kernelspec": {
   "display_name": "Python 3 (ipykernel)",
   "language": "python",
   "name": "python3"
  },
  "language_info": {
   "codemirror_mode": {
    "name": "ipython",
    "version": 3
   },
   "file_extension": ".py",
   "mimetype": "text/x-python",
   "name": "python",
   "nbconvert_exporter": "python",
   "pygments_lexer": "ipython3",
   "version": "3.11.4"
  }
 },
 "nbformat": 4,
 "nbformat_minor": 5
}
