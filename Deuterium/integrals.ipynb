{
 "cells": [
  {
   "cell_type": "code",
   "execution_count": 1,
   "id": "c6dcbf74",
   "metadata": {},
   "outputs": [],
   "source": [
    "import sympy as sp"
   ]
  },
  {
   "cell_type": "code",
   "execution_count": 2,
   "id": "72873cb7",
   "metadata": {},
   "outputs": [],
   "source": [
    "r, L, k, g= sp.symbols('r L k gamma', real=True, positive=True)"
   ]
  },
  {
   "cell_type": "markdown",
   "id": "1e688430",
   "metadata": {},
   "source": [
    "1) Calculating the integral:\n",
    "$$ \\int_0^L sin(kr)^2 dr $$"
   ]
  },
  {
   "cell_type": "code",
   "execution_count": 3,
   "id": "b0f0fd18",
   "metadata": {},
   "outputs": [
    {
     "data": {
      "text/latex": [
       "$\\displaystyle \\frac{L}{2} - \\frac{\\sin{\\left(2 L k \\right)}}{4 k}$"
      ],
      "text/plain": [
       "L/2 - sin(2*L*k)/(4*k)"
      ]
     },
     "execution_count": 3,
     "metadata": {},
     "output_type": "execute_result"
    }
   ],
   "source": [
    "sp.integrate(sp.sin(k*r)**2, (r,0,L)).simplify()"
   ]
  },
  {
   "cell_type": "markdown",
   "id": "eb3e8117",
   "metadata": {},
   "source": [
    "2) Calculating the integral:\n",
    "$$ \\int_L^\\infty e^{- 2 \\gamma r} dr $$"
   ]
  },
  {
   "cell_type": "code",
   "execution_count": 4,
   "id": "acc10921",
   "metadata": {},
   "outputs": [
    {
     "data": {
      "text/latex": [
       "$\\displaystyle \\frac{e^{- 2 L \\gamma}}{2 \\gamma}$"
      ],
      "text/plain": [
       "exp(-2*L*gamma)/(2*gamma)"
      ]
     },
     "execution_count": 4,
     "metadata": {},
     "output_type": "execute_result"
    }
   ],
   "source": [
    "sp.integrate(sp.exp(-2*g*r),(r,L,sp.oo))"
   ]
  },
  {
   "cell_type": "markdown",
   "id": "ca6cb10f",
   "metadata": {},
   "source": [
    "3) Calculating the integral:\n",
    "$$ \\int_0^L sin(kr)^2 r^2dr $$"
   ]
  },
  {
   "cell_type": "code",
   "execution_count": 5,
   "id": "d34682b9",
   "metadata": {},
   "outputs": [
    {
     "data": {
      "text/latex": [
       "$\\displaystyle \\frac{L^{3}}{6} - \\frac{L^{2} \\sin{\\left(2 L k \\right)}}{4 k} - \\frac{L \\cos{\\left(2 L k \\right)}}{4 k^{2}} + \\frac{\\sin{\\left(2 L k \\right)}}{8 k^{3}}$"
      ],
      "text/plain": [
       "L**3/6 - L**2*sin(2*L*k)/(4*k) - L*cos(2*L*k)/(4*k**2) + sin(2*L*k)/(8*k**3)"
      ]
     },
     "execution_count": 5,
     "metadata": {},
     "output_type": "execute_result"
    }
   ],
   "source": [
    "sp.integrate(sp.sin(k*r)**2 * r**2,(r,0,L)).simplify()"
   ]
  },
  {
   "cell_type": "markdown",
   "id": "617c5f01",
   "metadata": {},
   "source": [
    "4) Calculating the integral:\n",
    "$$ \\int_L^\\infty e^{- 2 \\gamma r} r^2 dr $$"
   ]
  },
  {
   "cell_type": "code",
   "execution_count": null,
   "id": "2462d5a4",
   "metadata": {},
   "outputs": [],
   "source": []
  }
 ],
 "metadata": {
  "language_info": {
   "name": "python"
  }
 },
 "nbformat": 4,
 "nbformat_minor": 5
}
