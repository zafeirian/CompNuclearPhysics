{
 "cells": [
  {
   "cell_type": "code",
   "execution_count": 60,
   "id": "c6dcbf74",
   "metadata": {},
   "outputs": [],
   "source": [
    "import sympy as sp"
   ]
  },
  {
   "cell_type": "code",
   "execution_count": 61,
   "id": "72873cb7",
   "metadata": {},
   "outputs": [],
   "source": [
    "r, L, k, g= sp.symbols('r L k gamma', real=True, positive=True)"
   ]
  },
  {
   "cell_type": "markdown",
   "id": "1e688430",
   "metadata": {},
   "source": [
    "1) Calculating the integral:\n",
    "$$ \\int_0^L sin(kr)^2 dr $$"
   ]
  },
  {
   "cell_type": "code",
   "execution_count": 62,
   "id": "b0f0fd18",
   "metadata": {},
   "outputs": [
    {
     "data": {
      "text/latex": [
       "$\\displaystyle \\frac{L}{2} - \\frac{\\sin{\\left(2 L k \\right)}}{4 k}$"
      ],
      "text/plain": [
       "L/2 - sin(2*L*k)/(4*k)"
      ]
     },
     "execution_count": 62,
     "metadata": {},
     "output_type": "execute_result"
    }
   ],
   "source": [
    "sp.integrate(sp.sin(k*r)**2, (r,0,L)).simplify()"
   ]
  },
  {
   "cell_type": "markdown",
   "id": "eb3e8117",
   "metadata": {},
   "source": [
    "2) Calculating the integral:\n",
    "$$ \\int_L^\\infty e^{- 2 \\gamma r} dr $$"
   ]
  },
  {
   "cell_type": "code",
   "execution_count": 63,
   "id": "acc10921",
   "metadata": {},
   "outputs": [
    {
     "data": {
      "text/latex": [
       "$\\displaystyle \\frac{e^{- 2 L \\gamma}}{2 \\gamma}$"
      ],
      "text/plain": [
       "exp(-2*L*gamma)/(2*gamma)"
      ]
     },
     "execution_count": 63,
     "metadata": {},
     "output_type": "execute_result"
    }
   ],
   "source": [
    "sp.integrate(sp.exp(-2*g*r),(r,L,sp.oo))"
   ]
  },
  {
   "cell_type": "markdown",
   "id": "ca6cb10f",
   "metadata": {},
   "source": [
    "3) Calculating the integral:\n",
    "$$ \\int_0^L sin(kr)^2 r^2dr $$"
   ]
  },
  {
   "cell_type": "code",
   "execution_count": 64,
   "id": "d34682b9",
   "metadata": {},
   "outputs": [
    {
     "data": {
      "text/latex": [
       "$\\displaystyle \\frac{L^{3}}{6} - \\frac{L^{2} \\sin{\\left(2 L k \\right)}}{4 k} - \\frac{L \\cos{\\left(2 L k \\right)}}{4 k^{2}} + \\frac{\\sin{\\left(2 L k \\right)}}{8 k^{3}}$"
      ],
      "text/plain": [
       "L**3/6 - L**2*sin(2*L*k)/(4*k) - L*cos(2*L*k)/(4*k**2) + sin(2*L*k)/(8*k**3)"
      ]
     },
     "execution_count": 64,
     "metadata": {},
     "output_type": "execute_result"
    }
   ],
   "source": [
    "sp.integrate(sp.sin(k*r)**2 * r**2,(r,0,L)).simplify()"
   ]
  },
  {
   "cell_type": "markdown",
   "id": "617c5f01",
   "metadata": {},
   "source": [
    "4) Calculating the integral:\n",
    "$$ \\int_L^\\infty e^{- 2 \\gamma r} r^2 dr $$"
   ]
  },
  {
   "cell_type": "code",
   "execution_count": 65,
   "id": "63f67fe5",
   "metadata": {},
   "outputs": [
    {
     "data": {
      "text/latex": [
       "$\\displaystyle \\frac{\\left(2 L^{2} \\gamma^{2} + 2 L \\gamma + 1\\right) e^{- 2 L \\gamma}}{4 \\gamma^{3}}$"
      ],
      "text/plain": [
       "(2*L**2*gamma**2 + 2*L*gamma + 1)*exp(-2*L*gamma)/(4*gamma**3)"
      ]
     },
     "execution_count": 65,
     "metadata": {},
     "output_type": "execute_result"
    }
   ],
   "source": [
    "sp.integrate(sp.exp(-2*g*r)* r**2,(r,L,sp.oo)).simplify()"
   ]
  },
  {
   "cell_type": "code",
   "execution_count": null,
   "id": "ed3d4323",
   "metadata": {},
   "outputs": [],
   "source": []
  }
 ],
 "metadata": {
  "kernelspec": {
   "display_name": "Python 3 (ipykernel)",
   "language": "python",
   "name": "python3"
  },
  "language_info": {
   "codemirror_mode": {
    "name": "ipython",
    "version": 3
   },
   "file_extension": ".py",
   "mimetype": "text/x-python",
   "name": "python",
   "nbconvert_exporter": "python",
   "pygments_lexer": "ipython3",
   "version": "3.11.4"
  }
 },
 "nbformat": 4,
 "nbformat_minor": 5
}
